{
 "cells": [
  {
   "cell_type": "markdown",
   "metadata": {},
   "source": [
    "# Introduction to Sets - Lab"
   ]
  },
  {
   "cell_type": "markdown",
   "metadata": {},
   "source": [
    "## Introduction"
   ]
  },
  {
   "cell_type": "markdown",
   "metadata": {},
   "source": [
    "Probability theory is all around. A common example is in the game of poker or related card games, where players try to calculate the probability of winning a round given the cards they have in their hands. Also in the business context probabilities play an important role. Operating in an volatile economy, companies need to take uncertainty into account and this is exactly where probability theory plays a role.\n",
    "\n",
    "As mentioned in the lesson before, a good understanding of probability starts with understanding of sets and set operations. That's exactly what you'll learn in this lab!"
   ]
  },
  {
   "cell_type": "markdown",
   "metadata": {},
   "source": [
    "## Objectives"
   ]
  },
  {
   "cell_type": "markdown",
   "metadata": {},
   "source": [
    "You will be able to:\n",
    "\n",
    "- Have a better sense of what sets, universal sets, and subsets are\n",
    "- Know how to perform common set operations in Python \n",
    "- Learn how to use Venn Diagrams to understand about the relationships between sets\n"
   ]
  },
  {
   "cell_type": "markdown",
   "metadata": {},
   "source": [
    "## Exploring set operations using a Venn Diagram"
   ]
  },
  {
   "cell_type": "markdown",
   "metadata": {},
   "source": [
    "Let's start with a pretty conceptual example. Let's consider the following sets:"
   ]
  },
  {
   "cell_type": "markdown",
   "metadata": {},
   "source": [
    "   - $\\Omega$ = positive integers between [1, 12]\n",
    "   - $A$= even numbers between [1, 10]\n",
    "   - $B = \\{3,8,11,12\\}$\n",
    "   - $C = \\{2,3,6,8,9,11\\}$\n",
    "    \n",
    "\n",
    "#### a. Illustrate all the sets in a Venn Diagram like the one below. The rectangular shape represents the universal set.\n",
    "\n",
    "![title](venn_diagr.png)\n",
    "\n",
    "#### b. Using your Venn Diagram, list the elements in each of the following sets:\n",
    "\n",
    "- $ A \\cap B$\n",
    "- $ A \\cup C$\n",
    "- $A^c$ \n",
    "- The absolute complement of B\n",
    "- $(A \\cup B)^c$\n",
    "- $B \\cap C'$\n",
    "- $A\\backslash B$\n",
    "- $C \\backslash (B \\backslash A)$ \n",
    "- $(C \\cap A) \\cup (C \\backslash B)$\n",
    "        \n",
    "#### c. As seen in the lecture, you can easily create sets in Python as well. For the remainder of this exercise, let's  create sets A, B and C and universal set U in Python and test out the results you came up with."
   ]
  },
  {
   "cell_type": "code",
   "execution_count": 11,
   "metadata": {},
   "outputs": [
    {
     "data": {
      "text/plain": [
       "\"Type A: <class 'set'>, A: {2, 4, 6, 8, 10, 12}\""
      ]
     },
     "execution_count": 11,
     "metadata": {},
     "output_type": "execute_result"
    }
   ],
   "source": [
    "# Create set A\n",
    "import numpy as np\n",
    "A = {2,4, 6, 8, 10, 12}\n",
    "'Type A: {}, A: {}'.format(type(A), A)"
   ]
  },
  {
   "cell_type": "code",
   "execution_count": 12,
   "metadata": {},
   "outputs": [
    {
     "data": {
      "text/plain": [
       "\"Type B: <class 'set'>, B: {8, 11, 3, 12}\""
      ]
     },
     "execution_count": 12,
     "metadata": {},
     "output_type": "execute_result"
    }
   ],
   "source": [
    "# Create set B\n",
    "B = {3, 8, 11, 12}\n",
    "'Type B: {}, B: {}'.format(type(B), B)"
   ]
  },
  {
   "cell_type": "code",
   "execution_count": 13,
   "metadata": {},
   "outputs": [
    {
     "data": {
      "text/plain": [
       "\"Type C: <class 'set'>, C: {2, 3, 6, 8, 9, 11}\""
      ]
     },
     "execution_count": 13,
     "metadata": {},
     "output_type": "execute_result"
    }
   ],
   "source": [
    "# Create set C\n",
    "C = {2, 3, 6, 8, 9, 11}\n",
    "'Type C: {}, C: {}'.format(type(C), C)"
   ]
  },
  {
   "cell_type": "code",
   "execution_count": 14,
   "metadata": {},
   "outputs": [
    {
     "data": {
      "text/plain": [
       "\"Type U: <class 'set'>, U: {1, 2, 3, 4, 5, 6, 7, 8, 9, 10, 11, 12}\""
      ]
     },
     "execution_count": 14,
     "metadata": {},
     "output_type": "execute_result"
    }
   ],
   "source": [
    "# Create universal set U\n",
    "U = {1,2,3,4,5,6,7,8,9,10,11,12}\n",
    "'Type U: {}, U: {}'.format(type(U), U)"
   ]
  },
  {
   "cell_type": "markdown",
   "metadata": {},
   "source": [
    "Now, verify your answers in section 1 by using the correct methods in Python. To provide a little bit of help, you can find a table with common operations on sets below.\n",
    "\n",
    "| Method        |\tEquivalent |\tResult |\n",
    "| ------                    | ------       | ------    |\n",
    "| s.issubset(t)             |\ts <= t     | test whether every element in s is in t\n",
    "| s.issuperset(t)           |\ts >= t     | test whether every element in t is in s\n",
    "| s.union(t)                |\ts $\\mid$ t | new set with elements from both s and t\n",
    "| s.intersection(t)         |\ts & t      | new set with elements common to s and t\n",
    "| s.difference(t)           |\ts - t \t   | new set with elements in s but not in t\n",
    "| s.symmetric_difference(t) |\ts ^ t      | new set with elements in either s or t but not both"
   ]
  },
  {
   "cell_type": "markdown",
   "metadata": {},
   "source": [
    "#### 1. $ A \\cap B$"
   ]
  },
  {
   "cell_type": "code",
   "execution_count": 15,
   "metadata": {},
   "outputs": [
    {
     "data": {
      "text/plain": [
       "{8, 12}"
      ]
     },
     "execution_count": 15,
     "metadata": {},
     "output_type": "execute_result"
    }
   ],
   "source": [
    "A_inters_B =  A.intersection(B)\n",
    "A_inters_B "
   ]
  },
  {
   "cell_type": "markdown",
   "metadata": {},
   "source": [
    "#### 2. $ A \\cup C $"
   ]
  },
  {
   "cell_type": "code",
   "execution_count": 16,
   "metadata": {},
   "outputs": [
    {
     "data": {
      "text/plain": [
       "{2, 3, 4, 6, 8, 9, 10, 11, 12}"
      ]
     },
     "execution_count": 16,
     "metadata": {},
     "output_type": "execute_result"
    }
   ],
   "source": [
    "A_union_C = A.union(C)\n",
    "A_union_C"
   ]
  },
  {
   "cell_type": "markdown",
   "metadata": {},
   "source": [
    "#### 3.  $A^c$ (you'll have to be a little creative here!)"
   ]
  },
  {
   "cell_type": "code",
   "execution_count": 17,
   "metadata": {},
   "outputs": [
    {
     "data": {
      "text/plain": [
       "{1, 3, 5, 7, 9, 11}"
      ]
     },
     "execution_count": 17,
     "metadata": {},
     "output_type": "execute_result"
    }
   ],
   "source": [
    "A_comp = U.difference(A) # or A_comp = U-A\n",
    "A_comp"
   ]
  },
  {
   "cell_type": "markdown",
   "metadata": {},
   "source": [
    "#### 4.  $(A \\cup B)^c $"
   ]
  },
  {
   "cell_type": "markdown",
   "metadata": {},
   "source": [
    "A_union_B_comp = U.difference(A.union(B)) \n",
    "A_union_B_comp"
   ]
  },
  {
   "cell_type": "markdown",
   "metadata": {},
   "source": [
    "#### 5. $B \\cap C' $"
   ]
  },
  {
   "cell_type": "code",
   "execution_count": 18,
   "metadata": {},
   "outputs": [
    {
     "data": {
      "text/plain": [
       "{12}"
      ]
     },
     "execution_count": 18,
     "metadata": {},
     "output_type": "execute_result"
    }
   ],
   "source": [
    "B_inters_C_comp = B.intersection(U.difference(C))\n",
    "B_inters_C_comp"
   ]
  },
  {
   "cell_type": "markdown",
   "metadata": {},
   "source": [
    "#### 6. $A\\backslash B$"
   ]
  },
  {
   "cell_type": "code",
   "execution_count": 20,
   "metadata": {},
   "outputs": [
    {
     "data": {
      "text/plain": [
       "{2, 4, 6, 10}"
      ]
     },
     "execution_count": 20,
     "metadata": {},
     "output_type": "execute_result"
    }
   ],
   "source": [
    "A_min_B = A.difference(B)\n",
    "A_min_B"
   ]
  },
  {
   "cell_type": "markdown",
   "metadata": {},
   "source": [
    "#### 7. $C \\backslash (B \\backslash A) $"
   ]
  },
  {
   "cell_type": "code",
   "execution_count": 21,
   "metadata": {},
   "outputs": [
    {
     "data": {
      "text/plain": [
       "{2, 6, 8, 9}"
      ]
     },
     "execution_count": 21,
     "metadata": {},
     "output_type": "execute_result"
    }
   ],
   "source": [
    "C_min_B_min_A= C.difference(B.difference(A))\n",
    "C_min_B_min_A"
   ]
  },
  {
   "cell_type": "markdown",
   "metadata": {},
   "source": [
    "#### 8.  $(C \\cap A) \\cup (C \\backslash B)$"
   ]
  },
  {
   "cell_type": "code",
   "execution_count": 22,
   "metadata": {},
   "outputs": [
    {
     "data": {
      "text/plain": [
       "{2, 6, 8, 9}"
      ]
     },
     "execution_count": 22,
     "metadata": {},
     "output_type": "execute_result"
    }
   ],
   "source": [
    "C_inters_A_union_C_min_B= (C.intersection(A).union(C.difference(B)))\n",
    "C_inters_A_union_C_min_B"
   ]
  },
  {
   "cell_type": "markdown",
   "metadata": {},
   "source": [
    "## The Inclusion Exclustion Principle"
   ]
  },
  {
   "cell_type": "markdown",
   "metadata": {},
   "source": [
    "Use A, B and C from exercise one to verify the inclusion exclusion principle in Python. What you'll do is translate the left hand side of the equation for the inclusion principle in the object `left_hand_eq`, and the right hand side in the object `right_hand_eq` and see if the results are the same."
   ]
  },
  {
   "cell_type": "code",
   "execution_count": 24,
   "metadata": {},
   "outputs": [
    {
     "name": "stdout",
     "output_type": "stream",
     "text": [
      "9\n"
     ]
    }
   ],
   "source": [
    "left_hand_eq = len((A.union(B)).union(C))\n",
    "print(left_hand_eq)  # 9"
   ]
  },
  {
   "cell_type": "code",
   "execution_count": 26,
   "metadata": {},
   "outputs": [
    {
     "name": "stdout",
     "output_type": "stream",
     "text": [
      "9\n"
     ]
    }
   ],
   "source": [
    "right_hand_eq = len(A)+len(B)+len(C)-len(A.intersection(B))-len(A.intersection(C))-len(B.intersection(C))+len((A.intersection(B)).intersection(C))\n",
    "print(right_hand_eq) # 9"
   ]
  },
  {
   "cell_type": "code",
   "execution_count": 30,
   "metadata": {},
   "outputs": [
    {
     "data": {
      "text/plain": [
       "True"
      ]
     },
     "execution_count": 30,
     "metadata": {},
     "output_type": "execute_result"
    }
   ],
   "source": [
    "left_hand_eq == right_hand_eq # needs to say \"True\""
   ]
  },
  {
   "cell_type": "markdown",
   "metadata": {},
   "source": [
    "## Set Operations in Python"
   ]
  },
  {
   "cell_type": "markdown",
   "metadata": {},
   "source": [
    "Mary is preparing for a road trip from her hometown, Boston, to Chicago. She has quite a few pets, yet luckily, so do her friends. They try to make sure that they take care of each other's pets while someone is away on a trip. A month ago, each respective person's pet collection was given by the following three sets:"
   ]
  },
  {
   "cell_type": "code",
   "execution_count": 45,
   "metadata": {},
   "outputs": [],
   "source": [
    "Nina = set([\"Cat\",\"Dog\",\"Rabbit\",\"Donkey\",\"Parrot\", \"Goldfish\"])\n",
    "Mary = set([\"Dog\",\"Chinchilla\",\"Horse\", \"Chicken\"])\n",
    "Eve = set([\"Rabbit\", \"Turtle\", \"Goldfish\"])"
   ]
  },
  {
   "cell_type": "markdown",
   "metadata": {},
   "source": [
    "In this exercise, you'll be able to use the following operations:"
   ]
  },
  {
   "cell_type": "markdown",
   "metadata": {},
   "source": [
    "|Operation                          |\tEquivalent |\tResult|\n",
    "| ------                            | ------       | ------   |\n",
    "|s.update(t)                        | \t$s \\mid t$ \t   |return set s with elements added from t|\n",
    "|s.intersection_update(t)           | \ts &= t     |\treturn set s keeping only elements also found in t|\n",
    "|s.difference_update(t)             |\ts -= t \t   |return set s after removing elements found in t|\n",
    "|s.symmetric_difference_update(t)   |\ts ^= t \t   |return set s with elements from s or t but not both|\n",
    "|s.add(x)                           |\t           |\tadd element x to set s|\n",
    "|s.remove(x)                        |\t           |\tremove x from set s|\n",
    "|s.discard(x)                       |\t           |\tremoves x from set s if present|\n",
    "|s.pop()                            | \t           |\tremove and return an arbitrary element from s|\n",
    "|s.clear()            \t            |  \t           |remove all elements from set s|"
   ]
  },
  {
   "cell_type": "markdown",
   "metadata": {},
   "source": [
    "Sadly, Eve's turtle passed away last week. Let's update her pet list accordingly."
   ]
  },
  {
   "cell_type": "code",
   "execution_count": 46,
   "metadata": {},
   "outputs": [
    {
     "data": {
      "text/plain": [
       "{'Goldfish', 'Rabbit'}"
      ]
     },
     "execution_count": 46,
     "metadata": {},
     "output_type": "execute_result"
    }
   ],
   "source": [
    "Eve.remove('Turtle')\n",
    "Eve # should be {'Rabbit', 'Goldfish'}"
   ]
  },
  {
   "cell_type": "markdown",
   "metadata": {},
   "source": [
    "This time around, Nina promised to take care of Mary's pets while she's awat. but also wants to make sure her pets are well taken care of. As Nina is already spending a considerable amount of time taking care of her own pets, adding a few more won't make that much of a difference. Nina does want to update her list while Marie is away. "
   ]
  },
  {
   "cell_type": "code",
   "execution_count": 50,
   "metadata": {},
   "outputs": [
    {
     "data": {
      "text/plain": [
       "{'Cat',\n",
       " 'Chicken',\n",
       " 'Chinchilla',\n",
       " 'Dog',\n",
       " 'Donkey',\n",
       " 'Goldfish',\n",
       " 'Horse',\n",
       " 'Parrot',\n",
       " 'Rabbit'}"
      ]
     },
     "execution_count": 50,
     "metadata": {},
     "output_type": "execute_result"
    }
   ],
   "source": [
    "Nina.update(Mary)\n",
    "Nina # {'Chicken', 'Horse', 'Chinchilla', 'Parrot', 'Rabbit', 'Donkey', 'Dog', 'Cat', 'Goldfish'}"
   ]
  },
  {
   "cell_type": "markdown",
   "metadata": {},
   "source": [
    "Mary, on the other hand, wants to clear her list altogether while away:"
   ]
  },
  {
   "cell_type": "code",
   "execution_count": 51,
   "metadata": {},
   "outputs": [
    {
     "data": {
      "text/plain": [
       "set()"
      ]
     },
     "execution_count": 51,
     "metadata": {},
     "output_type": "execute_result"
    }
   ],
   "source": [
    "Mary.clear()\n",
    "Mary  # set()"
   ]
  },
  {
   "cell_type": "markdown",
   "metadata": {},
   "source": [
    "Look at how many species Nina is taking care of right now."
   ]
  },
  {
   "cell_type": "code",
   "execution_count": 52,
   "metadata": {},
   "outputs": [
    {
     "data": {
      "text/plain": [
       "9"
      ]
     },
     "execution_count": 52,
     "metadata": {},
     "output_type": "execute_result"
    }
   ],
   "source": [
    "n_species_Nina = len(Nina)\n",
    "n_species_Nina # 9"
   ]
  },
  {
   "cell_type": "markdown",
   "metadata": {},
   "source": [
    "Taking care of this many pets is weighing heavy on Nina. She remembered Eve had a smaller collection of pets lately, and that's why she asks Eve to take care of the common species. This way, the extra pets are not a huge effort on Eve's behalf. Let's update Nina's pet collection."
   ]
  },
  {
   "cell_type": "code",
   "execution_count": 54,
   "metadata": {},
   "outputs": [
    {
     "data": {
      "text/plain": [
       "7"
      ]
     },
     "execution_count": 54,
     "metadata": {},
     "output_type": "execute_result"
    }
   ],
   "source": [
    "Nina = len(Nina.difference(Nina.intersection(Eve)))\n",
    "Nina # 7"
   ]
  },
  {
   "cell_type": "markdown",
   "metadata": {},
   "source": [
    "Taking care of 7 species seems doable for Nina!"
   ]
  },
  {
   "cell_type": "markdown",
   "metadata": {},
   "source": [
    "## Writing down the elements in a set\n",
    "\n",
    "\n",
    "Mary dropped off her Pet's at Nina's house, and finally made her way to the highway. Awesome, her vacation has begun!\n",
    "She's approaching an exit. At the end of this particular highway exit, cars can either turn left (L), go straight (S) or turn right (R). It's pretty busy and there are two cars driving close to her. What we'll do now is create several sets. You won't be using Python here, it's sufficient to write the sets down on paper. A good notion of sets and subsets will help you calculate probabilities in the next lab!\n",
    "\n",
    "a. Create a set $A$ of all possible outcomes assuming that all three cars drive in the same direction.\n",
    "           \n",
    "b. Create a set $B$ of all possible outcomes assuming that all three cars drive in a different direction.\n",
    "             \n",
    "c. Create a set $C$ of all possible outcomes assuming that exactly 2 cars turn right.\n",
    "            \n",
    "d. Create a set $D$ of all possible outcomes assuming that exactly 2 cars drive in the same direction.\n",
    "\n",
    "                          \n",
    "e. Write down the interpretation and give all possible outcomes for the sets denoted by:\n",
    " - I. $D'$ \n",
    " - II. $C \\cap D$, \n",
    " - III. $C \\cup D$. "
   ]
  },
  {
   "cell_type": "markdown",
   "metadata": {},
   "source": [
    "## Optional exercise: European Countries\n",
    "\n",
    "Use set operations to determine which European countries are not in the European Union. You just might have to clean the data first with pandas."
   ]
  },
  {
   "cell_type": "code",
   "execution_count": 28,
   "metadata": {},
   "outputs": [
    {
     "name": "stdout",
     "output_type": "stream",
     "text": [
      "    Rank                  Country  Population  % of population  \\\n",
      "0    1.0                   Russia   143964709            17.15   \n",
      "1    2.0                  Germany    82521653             9.80   \n",
      "2    3.0                   Turkey    80810000             9.60   \n",
      "3    4.0                   France    65233271             7.76   \n",
      "4    5.0           United Kingdom    65110276             7.75   \n",
      "5    6.0                    Italy    59320118             7.21   \n",
      "6    7.0                    Spain    46397452             5.53   \n",
      "7    8.0                  Ukraine    42895704             5.10   \n",
      "8    9.0                   Poland    38104832             4.58   \n",
      "9   10.0                  Romania    19622000             2.36   \n",
      "10  11.0              Netherlands    17084459             2.02   \n",
      "11  12.0                  Belgium    11469204             1.34   \n",
      "12  13.0                   Greece    11142161             1.28   \n",
      "13  14.0           Czech Republic    10625250             1.25   \n",
      "14  15.0                 Portugal    10291196             1.23   \n",
      "15  16.0                   Sweden     9952186             1.17   \n",
      "16  17.0                  Hungary     9702671             1.17   \n",
      "17  18.0               Azerbaijan     9923914             1.15   \n",
      "18  19.0                  Belarus     9452113             1.13   \n",
      "19  20.0                   Serbia     8762027             0.85   \n",
      "20  21.0                  Austria     8751820             1.02   \n",
      "21  22.0              Switzerland     8544034             0.98   \n",
      "22  23.0                 Bulgaria     7036848             0.86   \n",
      "23  24.0                  Denmark     5745547             0.68   \n",
      "24  25.0                  Finland     5475000             0.65   \n",
      "25  26.0                 Slovakia     5426000             0.65   \n",
      "26  27.0                   Norway     5194000             0.62   \n",
      "27  28.0                  Ireland     4630000             0.55   \n",
      "28  29.0                  Croatia     4230000             0.50   \n",
      "29  30.0   Bosnia and Herzegovina     3750000             0.45   \n",
      "30  31.0                  Georgia     3707000             0.44   \n",
      "31  32.0                  Moldova     3564000             0.42   \n",
      "32  33.0                  Armenia     3010000             0.36   \n",
      "33  34.0                Lithuania     2906000             0.35   \n",
      "34  35.0                  Albania     2887000             0.34   \n",
      "35  36.0                Macedonia     2071000             0.25   \n",
      "36  37.0                 Slovenia     2065000             0.25   \n",
      "37  38.0                   Latvia     1979000             0.24   \n",
      "38   NaN                   Kosovo     1867000             0.22   \n",
      "39  39.0                  Estonia     1315000             0.16   \n",
      "40  40.0                   Cyprus      876000             0.10   \n",
      "41  41.0               Montenegro      620000             0.07   \n",
      "42  42.0               Luxembourg      570000             0.07   \n",
      "43  43.0                    Malta      425000             0.05   \n",
      "44  44.0                  Iceland      331000             0.04   \n",
      "45   NaN              Jersey (UK)      103000             0.01   \n",
      "46   NaN         Isle of Man (UK)       89000             0.01   \n",
      "47  45.0                  Andorra       78000             0.01   \n",
      "48   NaN            Guernsey (UK)       66000             0.01   \n",
      "49   NaN  Faroe Islands (Denmark)       49000             0.01   \n",
      "50  46.0            Liechtenstein       37000             0.00   \n",
      "51  47.0                   Monaco       37000             0.00   \n",
      "52   NaN           Gibraltar (UK)       34000             0.00   \n",
      "53  48.0               San Marino       33000             0.00   \n",
      "54   NaN  Åland Islands (Finland)       29000             0.00   \n",
      "55   NaN        Svalbard (Norway)        3000             0.00   \n",
      "56  49.0             Vatican City        1000             0.00   \n",
      "\n",
      "    Average relative annual growth (%)  Average absolute annual growth  \\\n",
      "0                                 0.19                          294285   \n",
      "1                                 1.20                          600000   \n",
      "2                                 1.34                         1035000   \n",
      "3                                 0.39                          261022   \n",
      "4                                 0.75                          484000   \n",
      "5                                 0.49                          298000   \n",
      "6                                -0.06                          -28000   \n",
      "7                                -0.32                         -136000   \n",
      "8                                 0.05                           20000   \n",
      "9                                -0.41                          -81000   \n",
      "10                                0.37                           62000   \n",
      "11                                0.52                           58000   \n",
      "12                                0.16                          -12000   \n",
      "13                               -0.06                           -6000   \n",
      "14                               -0.56                          -58000   \n",
      "15                                1.03                          100000   \n",
      "16                               -0.28                          -28000   \n",
      "17                                1.23                          117000   \n",
      "18                                0.00                               0   \n",
      "19                               -0.41                          -29000   \n",
      "20                                0.67                           57000   \n",
      "21                                0.87                           71000   \n",
      "22                               -0.57                          -41000   \n",
      "23                                0.48                           27000   \n",
      "24                                0.11                            6000   \n",
      "25                                0.13                            7000   \n",
      "26                                1.11                           57000   \n",
      "27                                0.35                           16000   \n",
      "28                               -0.31                          -13000   \n",
      "29                               -0.64                          -24000   \n",
      "30                               -1.23                          -46000   \n",
      "31                                0.48                           17000   \n",
      "32                               -0.03                           -1000   \n",
      "33                               -0.85                          -25000   \n",
      "34                               -0.41                          -12000   \n",
      "35                                0.15                            3000   \n",
      "36                                0.15                            3000   \n",
      "37                               -0.90                          -18000   \n",
      "38                                1.08                           20000   \n",
      "39                                0.46                            6000   \n",
      "40                                0.46                            4000   \n",
      "41                                0.00                               0   \n",
      "42                                2.52                           14000   \n",
      "43                                0.47                            2000   \n",
      "44                                1.22                            4000   \n",
      "45                                0.98                            1000   \n",
      "46                                1.14                            1000   \n",
      "47                                1.30                            1000   \n",
      "48                                1.54                            1000   \n",
      "49                                0.00                               0   \n",
      "50                                0.00                               0   \n",
      "51                                0.00                               0   \n",
      "52                                3.03                            1000   \n",
      "53                                0.00                               0   \n",
      "54                                0.00                               0   \n",
      "55                                0.00                               0   \n",
      "56                                0.00                               0   \n",
      "\n",
      "   Estimated doubling time (Years)  Official figure (where available)  \\\n",
      "0                              368                          146839993   \n",
      "1                               90                           82800000   \n",
      "2                               52                           77695904   \n",
      "3                              177                           66991000   \n",
      "4                               92                           66573504   \n",
      "5                              141                           60788845   \n",
      "6                               -                            46449565   \n",
      "7                               -                            42726067   \n",
      "8                             1334                           38484000   \n",
      "9                               -                            19942642   \n",
      "10                             189                           17119800   \n",
      "11                             134                           11370968   \n",
      "12                              -                            10816286   \n",
      "13                              -                            10588063   \n",
      "14                              -                            10309573   \n",
      "15                              68                           10081396   \n",
      "16                              -                             9849000   \n",
      "17                              57                            9810000   \n",
      "18                              -                             9481100   \n",
      "19                              -                             7146759   \n",
      "20                             104                            8794267   \n",
      "21                              80                            8211700   \n",
      "22                              -                             7245677   \n",
      "23                             145                            5659715   \n",
      "24                             632                            5473465   \n",
      "25                             537                            5415949   \n",
      "26                              63                            5165802   \n",
      "27                             200                            4761865   \n",
      "28                              -                             4267558   \n",
      "29                              -                             3791622   \n",
      "30                              -                             3729500   \n",
      "31                             145                            3555200   \n",
      "32                              -                             3010600   \n",
      "33                              -                             2912566   \n",
      "34                              -                             2893005   \n",
      "35                             478                            2069172   \n",
      "36                             477                            2062731   \n",
      "37                              -                             1983300   \n",
      "38                              64                            1815606   \n",
      "39                             152                            1315635   \n",
      "40                             151                             865900   \n",
      "41                              -                              620029   \n",
      "42                              28                             562958   \n",
      "43                             147                             417432   \n",
      "44                              57                             329100   \n",
      "45                              71                              97857   \n",
      "46                              61                              84497   \n",
      "47                              54                              76949   \n",
      "48                              45                              65150   \n",
      "49                              -                               48693   \n",
      "50                              -                               37370   \n",
      "51                              -                               36950   \n",
      "52                              23                              30001   \n",
      "53                              -                               32798   \n",
      "54                              -                               28666   \n",
      "55                              -                                2575   \n",
      "56                              -                                   0   \n",
      "\n",
      "    Date of last figure Regional grouping                          Source  \n",
      "0   2017-01-01 00:00:00             EAEU                              [1]  \n",
      "1   2016-12-31 00:00:00               EU                Official estimate  \n",
      "2   2016-12-31 00:00:00               NaN                             [2]  \n",
      "3   2017-03-01 00:00:00               EU                              [3]  \n",
      "4   2016-12-30 00:00:00               EU                Official estimate  \n",
      "5   2017-01-01 00:00:00               EU        Monthly official estimate  \n",
      "6   2015-01-01 00:00:00               EU                Official estimate  \n",
      "7   2015-03-01 00:00:00               NaN       Monthly official estimate  \n",
      "8   2014-12-31 00:00:00               EU                Official estimate  \n",
      "9   2014-01-01 00:00:00               EU                Official estimate  \n",
      "10  2018-04-15 00:00:00               EU        Official population clock  \n",
      "11  2017-08-01 00:00:00               EU        Monthly official estimate  \n",
      "12  2011-05-24 00:00:00               EU         Final 2011 census result  \n",
      "13  2017-07-30 00:00:00               EU                Official estimate  \n",
      "14  2016-12-31 00:00:00               EU                Official estimate  \n",
      "15  2017-08-31 00:00:00               EU                Official estimate  \n",
      "16  2014-12-31 00:00:00               EU                Official estimate  \n",
      "17  2017-01-01 00:00:00               NaN               Official estimate  \n",
      "18  2015-04-01 00:00:00             EAEU                Official estimate  \n",
      "19  2014-01-01 00:00:00               NaN               Official estimate  \n",
      "20  2018-07-01 00:00:00               EU                Official estimate  \n",
      "21  2014-09-30 00:00:00             EFTA                Official estimate  \n",
      "22  2013-12-31 00:00:00               EU                Official estimate  \n",
      "23  2015-01-01 00:00:00               EU                Official estimate  \n",
      "24  2015-03-31 00:00:00               EU        Monthly official estimate  \n",
      "25  2014-09-30 00:00:00               EU                Official estimate  \n",
      "26  2015-01-01 00:00:00             EFTA                Official estimate  \n",
      "27  2016-04-01 00:00:00               EU   Preliminary 2016 census result  \n",
      "28  2012-07-01 00:00:00               EU                Official estimate  \n",
      "29  2013-10-01 00:00:00               NaN  Preliminary 2013 census result  \n",
      "30  2015-01-01 00:00:00               NaN               Official estimate  \n",
      "31  2015-01-01 00:00:00               NaN               Official estimate  \n",
      "32  2014-12-31 00:00:00             EAEU        Monthly official estimate  \n",
      "33  2015-04-01 00:00:00               EU        Monthly official estimate  \n",
      "34  2015-01-01 00:00:00               NaN               Official estimate  \n",
      "35  2014-12-31 00:00:00               NaN               Official estimate  \n",
      "36  2014-10-01 00:00:00               EU                Official estimate  \n",
      "37  2015-04-01 00:00:00               EU        Monthly official estimate  \n",
      "38  2012-12-31 00:00:00               NaN               Official estimate  \n",
      "39  2017-01-01 00:00:00               EU                Official estimate  \n",
      "40  2012-12-31 00:00:00               EU                Official estimate  \n",
      "41  2011-04-01 00:00:00               NaN              2011 census result  \n",
      "42  2014-12-31 00:00:00               EU                Official estimate  \n",
      "43  2011-11-20 00:00:00               EU               2011 census result  \n",
      "44  2015-01-01 00:00:00             EFTA                Official estimate  \n",
      "45  2011-03-27 00:00:00               NaN              2011 census result  \n",
      "46  2011-03-27 00:00:00               NaN              2011 census result  \n",
      "47                 2014               NaN               Official estimate  \n",
      "48  2014-03-31 00:00:00               NaN               Official estimate  \n",
      "49  2015-02-01 00:00:00               NaN       Monthly official estimate  \n",
      "50  2014-12-31 00:00:00             EFTA                Official estimate  \n",
      "51  2013-12-31 00:00:00               NaN               Official estimate  \n",
      "52                 2012               EU                Official estimate  \n",
      "53  2015-02-28 00:00:00               NaN       Monthly official estimate  \n",
      "54  2013-12-31 00:00:00               EU                Official estimate  \n",
      "55  2014-07-01 00:00:00             EFTA                Official estimate  \n",
      "56                 2012               NaN               Official estimate  \n",
      "    Rank         Country  2017 population  % of pop.  \\\n",
      "0      1         Germany         82800000      16.18   \n",
      "1      2          France         67210459      13.10   \n",
      "2      3  United Kingdom         65808573      12.86   \n",
      "3      4           Italy         60589445      11.84   \n",
      "4      5           Spain         46528966       9.09   \n",
      "5      6          Poland         37972964       7.42   \n",
      "6      7         Romania         19638309       3.84   \n",
      "7      8     Netherlands         17081507       3.34   \n",
      "8      9         Belgium         11365834       2.22   \n",
      "9     10          Greece         10757293       2.10   \n",
      "10    11  Czech Republic         10610055       2.07   \n",
      "11    12        Portugal         10309573       2.01   \n",
      "12    13          Sweden          9995153       1.95   \n",
      "13    14         Hungary          9797561       1.91   \n",
      "14    15         Austria          8772865       1.71   \n",
      "15    16        Bulgaria          7101859       1.39   \n",
      "16    17         Denmark          5748769       1.12   \n",
      "17    18         Finland          5503297       1.08   \n",
      "18    19        Slovakia          5435343       1.06   \n",
      "19    20         Ireland          4774833       0.93   \n",
      "20    21         Croatia          4154213       0.81   \n",
      "21    22       Lithuania          2847904       0.56   \n",
      "22    23        Slovenia          2065895       0.40   \n",
      "23    24          Latvia          1950116       0.38   \n",
      "24    25         Estonia          1315635       0.26   \n",
      "25    26          Cyprus           854802       0.17   \n",
      "26    27      Luxembourg           590667       0.12   \n",
      "27    28           Malta           440433       0.09   \n",
      "\n",
      "    Average relative annual growth  Average absolute annual growth  \\\n",
      "0                             0.76                          628876   \n",
      "1                             0.40                          265557   \n",
      "2                             0.65                          428793   \n",
      "3                            -0.13                          -76001   \n",
      "4                             0.19                           89037   \n",
      "5                             0.02                            5756   \n",
      "6                            -0.62                         -121252   \n",
      "7                             0.60                          103004   \n",
      "8                             0.48                           54982   \n",
      "9                            -0.25                          -26390   \n",
      "10                            0.53                           31235   \n",
      "11                           -0.31                          -31659   \n",
      "12                            1.46                          146245   \n",
      "13                           -0.33                          -32814   \n",
      "14                            0.95                           83578   \n",
      "15                           -0.73                          -51548   \n",
      "16                            0.73                           41820   \n",
      "17                            0.29                           16036   \n",
      "18                            0.17                            9106   \n",
      "19                            1.06                           50645   \n",
      "20                           -0.87                          -36139   \n",
      "21                           -1.41                          -40082   \n",
      "22                            0.08                            1708   \n",
      "23                           -0.96                          -18661   \n",
      "24                           -0.02                            -309   \n",
      "25                            0.76                            6533   \n",
      "26                            2.50                           14779   \n",
      "27                            1.39                            6114   \n",
      "\n",
      "    Official figure Date of last figure                     Source  \n",
      "0          82576900          2017-03-31          Official estimate  \n",
      "1          67174000          2018-01-01  Monthly official estimate  \n",
      "2          65648100          2017-06-30          Official estimate  \n",
      "3          60494000          2018-01-01  Monthly official estimate  \n",
      "4          46549045          2017-07-01          Official estimate  \n",
      "5          38426000          2017-07-31          Official estimate  \n",
      "6          19638309          2017-01-01          Official estimate  \n",
      "7          17184010          2017-12-31  Monthly official estimate  \n",
      "8          11399335          2017-12-01  Monthly official estimate  \n",
      "9          10768193          2017-01-01          Official estimate  \n",
      "10         10610055          2017-12-31          Official estimate  \n",
      "11         10309573          2016-12-31          Official estimate  \n",
      "12         10112669          2017-11-30  Monthly official estimate  \n",
      "13          9797561          2017-01-01          Official estimate  \n",
      "14          8823054          2018-01-01          Official estimate  \n",
      "15          7101859          2016-12-31          Official estimate  \n",
      "16          5781190          2018-01-01          Official estimate  \n",
      "17          5516224          2017-12-31  Monthly official estimate  \n",
      "18          5441899          2017-09-30          Official estimate  \n",
      "19          4792650          2017-04-01          Official estimate  \n",
      "20          4154213          2016-12-31          Official estimate  \n",
      "21          2807495          2018-02-01  Monthly official estimate  \n",
      "22          2065890          2017-10-01          Official estimate  \n",
      "23          1929900          2018-01-01  Monthly official estimate  \n",
      "24          1318705          2018-01-01          Official estimate  \n",
      "25           845800          2016-12-31          Official estimate  \n",
      "26           590667          2017-01-01          Official estimate  \n",
      "27           460297          2016-12-31          Official estimate  \n"
     ]
    }
   ],
   "source": [
    "import pandas as pd\n",
    "\n",
    "#Load Europe and EU\n",
    "europe = pd.read_excel('Europe_and_EU.xlsx', sheet_name = 'Europe') \n",
    "eu = pd.read_excel('Europe_and_EU.xlsx', sheet_name = 'EU')\n",
    "\n",
    "#Use pandas to remove any whitespace from names\n",
    "\n",
    "\n",
    "europe['Country'] = europe['Country'].str.strip()\n",
    "print(europe)\n",
    "\n",
    "eu['Country'] = eu['Country'].str.strip()\n",
    "print(eu)\n",
    "# print(type(df))\n",
    "# for index, row in europe.iterrows():\n",
    "#     print(row[\"country\"])\n",
    "\n"
   ]
  },
  {
   "cell_type": "code",
   "execution_count": 56,
   "metadata": {},
   "outputs": [
    {
     "data": {
      "text/html": [
       "<div>\n",
       "<style scoped>\n",
       "    .dataframe tbody tr th:only-of-type {\n",
       "        vertical-align: middle;\n",
       "    }\n",
       "\n",
       "    .dataframe tbody tr th {\n",
       "        vertical-align: top;\n",
       "    }\n",
       "\n",
       "    .dataframe thead th {\n",
       "        text-align: right;\n",
       "    }\n",
       "</style>\n",
       "<table border=\"1\" class=\"dataframe\">\n",
       "  <thead>\n",
       "    <tr style=\"text-align: right;\">\n",
       "      <th></th>\n",
       "      <th>Rank</th>\n",
       "      <th>Country</th>\n",
       "      <th>Population</th>\n",
       "      <th>% of population</th>\n",
       "      <th>Average relative annual growth (%)</th>\n",
       "      <th>Average absolute annual growth</th>\n",
       "      <th>Estimated doubling time (Years)</th>\n",
       "      <th>Official figure (where available)</th>\n",
       "      <th>Date of last figure</th>\n",
       "      <th>Regional grouping</th>\n",
       "      <th>Source</th>\n",
       "    </tr>\n",
       "  </thead>\n",
       "  <tbody>\n",
       "    <tr>\n",
       "      <th>0</th>\n",
       "      <td>1.0</td>\n",
       "      <td>Russia</td>\n",
       "      <td>143964709</td>\n",
       "      <td>17.15</td>\n",
       "      <td>0.19</td>\n",
       "      <td>294285</td>\n",
       "      <td>368</td>\n",
       "      <td>146839993</td>\n",
       "      <td>2017-01-01 00:00:00</td>\n",
       "      <td>EAEU</td>\n",
       "      <td>[1]</td>\n",
       "    </tr>\n",
       "    <tr>\n",
       "      <th>1</th>\n",
       "      <td>2.0</td>\n",
       "      <td>Germany</td>\n",
       "      <td>82521653</td>\n",
       "      <td>9.80</td>\n",
       "      <td>1.20</td>\n",
       "      <td>600000</td>\n",
       "      <td>90</td>\n",
       "      <td>82800000</td>\n",
       "      <td>2016-12-31 00:00:00</td>\n",
       "      <td>EU</td>\n",
       "      <td>Official estimate</td>\n",
       "    </tr>\n",
       "    <tr>\n",
       "      <th>2</th>\n",
       "      <td>3.0</td>\n",
       "      <td>Turkey</td>\n",
       "      <td>80810000</td>\n",
       "      <td>9.60</td>\n",
       "      <td>1.34</td>\n",
       "      <td>1035000</td>\n",
       "      <td>52</td>\n",
       "      <td>77695904</td>\n",
       "      <td>2016-12-31 00:00:00</td>\n",
       "      <td>NaN</td>\n",
       "      <td>[2]</td>\n",
       "    </tr>\n",
       "  </tbody>\n",
       "</table>\n",
       "</div>"
      ],
      "text/plain": [
       "   Rank    Country  Population  % of population  \\\n",
       "0   1.0     Russia   143964709            17.15   \n",
       "1   2.0   Germany     82521653             9.80   \n",
       "2   3.0    Turkey     80810000             9.60   \n",
       "\n",
       "   Average relative annual growth (%)  Average absolute annual growth  \\\n",
       "0                                0.19                          294285   \n",
       "1                                1.20                          600000   \n",
       "2                                1.34                         1035000   \n",
       "\n",
       "  Estimated doubling time (Years)  Official figure (where available)  \\\n",
       "0                             368                          146839993   \n",
       "1                              90                           82800000   \n",
       "2                              52                           77695904   \n",
       "\n",
       "   Date of last figure Regional grouping             Source  \n",
       "0  2017-01-01 00:00:00             EAEU                 [1]  \n",
       "1  2016-12-31 00:00:00               EU   Official estimate  \n",
       "2  2016-12-31 00:00:00               NaN                [2]  "
      ]
     },
     "execution_count": 56,
     "metadata": {},
     "output_type": "execute_result"
    }
   ],
   "source": [
    "europe.head(3) #preview dataframe"
   ]
  },
  {
   "cell_type": "code",
   "execution_count": 57,
   "metadata": {},
   "outputs": [
    {
     "data": {
      "text/html": [
       "<div>\n",
       "<style scoped>\n",
       "    .dataframe tbody tr th:only-of-type {\n",
       "        vertical-align: middle;\n",
       "    }\n",
       "\n",
       "    .dataframe tbody tr th {\n",
       "        vertical-align: top;\n",
       "    }\n",
       "\n",
       "    .dataframe thead th {\n",
       "        text-align: right;\n",
       "    }\n",
       "</style>\n",
       "<table border=\"1\" class=\"dataframe\">\n",
       "  <thead>\n",
       "    <tr style=\"text-align: right;\">\n",
       "      <th></th>\n",
       "      <th>Rank</th>\n",
       "      <th>Country</th>\n",
       "      <th>2017 population</th>\n",
       "      <th>% of pop.</th>\n",
       "      <th>Average relative annual growth</th>\n",
       "      <th>Average absolute annual growth</th>\n",
       "      <th>Official figure</th>\n",
       "      <th>Date of last figure</th>\n",
       "      <th>Source</th>\n",
       "    </tr>\n",
       "  </thead>\n",
       "  <tbody>\n",
       "    <tr>\n",
       "      <th>0</th>\n",
       "      <td>1</td>\n",
       "      <td>Germany</td>\n",
       "      <td>82800000</td>\n",
       "      <td>16.18</td>\n",
       "      <td>0.76</td>\n",
       "      <td>628876</td>\n",
       "      <td>82576900</td>\n",
       "      <td>2017-03-31</td>\n",
       "      <td>Official estimate</td>\n",
       "    </tr>\n",
       "    <tr>\n",
       "      <th>1</th>\n",
       "      <td>2</td>\n",
       "      <td>France</td>\n",
       "      <td>67210459</td>\n",
       "      <td>13.10</td>\n",
       "      <td>0.40</td>\n",
       "      <td>265557</td>\n",
       "      <td>67174000</td>\n",
       "      <td>2018-01-01</td>\n",
       "      <td>Monthly official estimate</td>\n",
       "    </tr>\n",
       "    <tr>\n",
       "      <th>2</th>\n",
       "      <td>3</td>\n",
       "      <td>United Kingdom</td>\n",
       "      <td>65808573</td>\n",
       "      <td>12.86</td>\n",
       "      <td>0.65</td>\n",
       "      <td>428793</td>\n",
       "      <td>65648100</td>\n",
       "      <td>2017-06-30</td>\n",
       "      <td>Official estimate</td>\n",
       "    </tr>\n",
       "  </tbody>\n",
       "</table>\n",
       "</div>"
      ],
      "text/plain": [
       "   Rank         Country  2017 population  % of pop.  \\\n",
       "0     1        Germany          82800000      16.18   \n",
       "1     2          France         67210459      13.10   \n",
       "2     3  United Kingdom         65808573      12.86   \n",
       "\n",
       "   Average relative annual growth  Average absolute annual growth  \\\n",
       "0                            0.76                          628876   \n",
       "1                            0.40                          265557   \n",
       "2                            0.65                          428793   \n",
       "\n",
       "   Official figure Date of last figure                     Source  \n",
       "0         82576900          2017-03-31          Official estimate  \n",
       "1         67174000          2018-01-01  Monthly official estimate  \n",
       "2         65648100          2017-06-30          Official estimate  "
      ]
     },
     "execution_count": 57,
     "metadata": {},
     "output_type": "execute_result"
    }
   ],
   "source": [
    "eu.head(3)"
   ]
  },
  {
   "cell_type": "code",
   "execution_count": 30,
   "metadata": {},
   "outputs": [
    {
     "name": "stdout",
     "output_type": "stream",
     "text": [
      "{'Iceland', 'Monaco', 'Macedonia', 'Malta', 'San Marino', 'Croatia', 'France', 'Svalbard (Norway)', 'Estonia', 'Albania', 'Kosovo', 'Cyprus', 'Åland Islands (Finland)', 'Poland', 'Isle of Man (UK)', 'Luxembourg', 'Andorra', 'Austria', 'Jersey (UK)', 'Romania', 'Czech Republic', 'Norway', 'Moldova', 'Belgium', 'Hungary', 'Belarus', 'United Kingdom', 'Slovenia', 'Georgia', 'Italy', 'Spain', 'Netherlands', 'Bosnia and Herzegovina', 'Lithuania', 'Latvia', 'Faroe Islands (Denmark)', 'Ukraine', 'Gibraltar (UK)', 'Denmark', 'Vatican City', 'Armenia', 'Montenegro', 'Turkey', 'Serbia', 'Germany', 'Greece', 'Guernsey (UK)', 'Portugal', 'Ireland', 'Liechtenstein', 'Slovakia', 'Azerbaijan', 'Russia', 'Bulgaria', 'Switzerland', 'Finland', 'Sweden'}\n"
     ]
    }
   ],
   "source": [
    "european_countries = set(europe['Country'])\n",
    "EU = set(eu['Country'])"
   ]
  },
  {
   "cell_type": "code",
   "execution_count": 31,
   "metadata": {},
   "outputs": [
    {
     "name": "stdout",
     "output_type": "stream",
     "text": [
      "{'Iceland', 'Monaco', 'Macedonia', 'San Marino', 'Svalbard (Norway)', 'Albania', 'Kosovo', 'Åland Islands (Finland)', 'Andorra', 'Isle of Man (UK)', 'Jersey (UK)', 'Norway', 'Moldova', 'Belarus', 'Switzerland', 'Georgia', 'Bosnia and Herzegovina', 'Gibraltar (UK)', 'Faroe Islands (Denmark)', 'Ukraine', 'Vatican City', 'Armenia', 'Turkey', 'Serbia', 'Guernsey (UK)', 'Liechtenstein', 'Azerbaijan', 'Russia', 'Montenegro'}\n"
     ]
    }
   ],
   "source": [
    "not_in_eu = european_countries.difference(EU)\n",
    "print(not_in_eu)"
   ]
  },
  {
   "cell_type": "markdown",
   "metadata": {},
   "source": [
    "## Summary"
   ]
  },
  {
   "cell_type": "markdown",
   "metadata": {},
   "source": [
    "In this lab, you practiced your knowledge on sets, such as common set operations, the use of Venn Diagrams, the inclusion exclusion principle, and how to use sets in Python! "
   ]
  }
 ],
 "metadata": {
  "kernelspec": {
   "display_name": "Python 3",
   "language": "python",
   "name": "python3"
  },
  "language_info": {
   "codemirror_mode": {
    "name": "ipython",
    "version": 3
   },
   "file_extension": ".py",
   "mimetype": "text/x-python",
   "name": "python",
   "nbconvert_exporter": "python",
   "pygments_lexer": "ipython3",
   "version": "3.6.6"
  }
 },
 "nbformat": 4,
 "nbformat_minor": 2
}
